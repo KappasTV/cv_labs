{
 "cells": [
  {
   "cell_type": "markdown",
   "metadata": {
    "pycharm": {
     "name": "#%% md\n"
    }
   },
   "source": [
    "# Лабораторна робота №1"
   ]
  },
  {
   "cell_type": "markdown",
   "metadata": {
    "pycharm": {
     "name": "#%% md\n"
    }
   },
   "source": [
    "## Завдання 6: Виконати гістограмний зсув ліворуч(див. лекція №1). Провести порівняльний  аналіз"
   ]
  },
  {
   "cell_type": "code",
   "execution_count": 2,
   "metadata": {
    "collapsed": false,
    "jupyter": {
     "outputs_hidden": false
    },
    "pycharm": {
     "name": "#%%\n"
    }
   },
   "outputs": [],
   "source": [
    "import numpy as np\n",
    "import matplotlib.pyplot as plt\n",
    "from matplotlib import image"
   ]
  },
  {
   "cell_type": "markdown",
   "metadata": {
    "id": "VixYhOzIxesk",
    "pycharm": {
     "name": "#%% md\n"
    }
   },
   "source": [
    "Функція `lower_matrix_contrast` застосовує перетворення [1] до матриці на вході."
   ]
  },
  {
   "cell_type": "code",
   "execution_count": 3,
   "metadata": {
    "id": "mdGtm_8Cxeso",
    "pycharm": {
     "name": "#%%\n"
    }
   },
   "outputs": [],
   "source": [
    "def left_shift(img, k, grayscale):\n",
    "  if grayscale:\n",
    "    return left_shift2D(img, k)\n",
    "  for x in range(img.shape[0]):\n",
    "    for y in range(img.shape[1]):\n",
    "      for c in range(img.shape[2]):\n",
    "        img[x][y][c] = min(img[x][y][c] + k / 100, 1)\n",
    "  return img"
   ]
  },
  {
   "cell_type": "markdown",
   "metadata": {
    "id": "WPdTvMd7xesq",
    "pycharm": {
     "name": "#%% md\n"
    }
   },
   "source": [
    "Функція `lower_contrast` застосовує перетворення `lower_matrix_contrast` до всіх каналів масиву на вході."
   ]
  },
  {
   "cell_type": "code",
   "execution_count": 4,
   "metadata": {
    "id": "ja5AkuFnxest",
    "pycharm": {
     "name": "#%%\n"
    }
   },
   "outputs": [],
   "source": [
    "def left_shift2D(img, k):\n",
    "  for x in range(img.shape[0]):\n",
    "    for y in range(img.shape[1]):\n",
    "      img[x][y] = min(img[x][y] + k / 100, 1)\n",
    "  return img"
   ]
  },
  {
   "cell_type": "markdown",
   "metadata": {
    "id": "8QDsdtp0xesw",
    "pycharm": {
     "name": "#%% md\n"
    }
   },
   "source": [
    "# Зчитування зображення"
   ]
  },
  {
   "cell_type": "code",
   "execution_count": 5,
   "metadata": {
    "id": "lCQgN3Hfxesz",
    "pycharm": {
     "name": "#%%\n"
    }
   },
   "outputs": [],
   "source": [
    "def plot_images(original, updated, grayscale):\n",
    "  images = [original, updated]\n",
    "  labels = [\"original\", \"updated\"]\n",
    "  _, axes = plt.subplots(ncols=2)\n",
    "\n",
    "  for index, ax in enumerate(axes):\n",
    "    if grayscale:\n",
    "      ax.imshow((images[index] * 255).astype(np.uint8), cmap='gray', vmin=0, vmax=255)\n",
    "    else:\n",
    "      ax.imshow((images[index] * 255).astype(np.uint8))\n",
    "    ax.set_title(labels[index])\n",
    "    ax.axis(\"off\")\n",
    "  plt.show()"
   ]
  },
  {
   "cell_type": "code",
   "execution_count": 8,
   "metadata": {
    "collapsed": false,
    "jupyter": {
     "outputs_hidden": false
    },
    "pycharm": {
     "name": "#%%\n"
    }
   },
   "outputs": [
    {
     "name": "stdin",
     "output_type": "stream",
     "text": [
      " C:\\Users\\teodo\\Desktop\\ocado\\cv_labs\\lab1\\data\\contrast_l.png\n",
      " 10\n"
     ]
    },
    {
     "name": "stdout",
     "output_type": "stream",
     "text": [
      "(338, 511, 3)\n"
     ]
    },
    {
     "data": {
      "image/png": "[encoded data removed]",
      "text/plain": [
       "<Figure size 432x288 with 2 Axes>"
      ]
     },
     "metadata": {
      "needs_background": "light"
     },
     "output_type": "display_data"
    }
   ],
   "source": [
    "path = input()\n",
    "k = int(input())\n",
    "if k < 0 or k > 255:\n",
    "  print(\"invalid k value\")\n",
    "else:\n",
    "  img = image.imread(path)\n",
    "  print(img.shape)\n",
    "  grayscale = len(img.shape) == 2\n",
    "  updated = left_shift(np.copy(img), k, grayscale)\n",
    "  plot_images(img, updated, grayscale)"
   ]
  },
  {
   "cell_type": "code",
   "execution_count": null,
   "metadata": {
    "collapsed": false,
    "jupyter": {
     "outputs_hidden": false
    },
    "pycharm": {
     "name": "#%%\n"
    }
   },
   "outputs": [],
   "source": []
  }
 ],
 "metadata": {
  "colab": {
   "collapsed_sections": [],
   "name": "lab1_loc.ipynb",
   "provenance": []
  },
  "kernelspec": {
   "display_name": "Python 3 (ipykernel)",
   "language": "python",
   "name": "python3"
  },
  "language_info": {
   "codemirror_mode": {
    "name": "ipython",
    "version": 3
   },
   "file_extension": ".py",
   "mimetype": "text/x-python",
   "name": "python",
   "nbconvert_exporter": "python",
   "pygments_lexer": "ipython3",
   "version": "3.7.0"
  }
 },
 "nbformat": 4,
 "nbformat_minor": 4
}